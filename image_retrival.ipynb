{
 "cells": [
  {
   "cell_type": "code",
   "execution_count": 1,
   "metadata": {},
   "outputs": [
    {
     "name": "stdout",
     "output_type": "stream",
     "text": [
      "Requirement already satisfied: icrawler in c:\\users\\vsanc\\anaconda3\\lib\\site-packages (0.6.6)\n",
      "Requirement already satisfied: Pillow in c:\\users\\vsanc\\anaconda3\\lib\\site-packages (from icrawler) (7.2.0)\n",
      "Requirement already satisfied: beautifulsoup4>=4.4.1 in c:\\users\\vsanc\\anaconda3\\lib\\site-packages (from icrawler) (4.9.1)\n",
      "Requirement already satisfied: lxml in c:\\users\\vsanc\\anaconda3\\lib\\site-packages (from icrawler) (4.5.2)\n",
      "Requirement already satisfied: requests>=2.9.1 in c:\\users\\vsanc\\anaconda3\\lib\\site-packages (from icrawler) (2.23.0)\n",
      "Requirement already satisfied: six>=1.10.0 in c:\\users\\vsanc\\anaconda3\\lib\\site-packages (from icrawler) (1.15.0)\n",
      "Requirement already satisfied: soupsieve>1.2 in c:\\users\\vsanc\\anaconda3\\lib\\site-packages (from beautifulsoup4>=4.4.1->icrawler) (2.0.1)\n",
      "Requirement already satisfied: chardet<4,>=3.0.2 in c:\\users\\vsanc\\anaconda3\\lib\\site-packages (from requests>=2.9.1->icrawler) (3.0.4)\n",
      "Requirement already satisfied: urllib3!=1.25.0,!=1.25.1,<1.26,>=1.21.1 in c:\\users\\vsanc\\anaconda3\\lib\\site-packages (from requests>=2.9.1->icrawler) (1.25.11)\n",
      "Requirement already satisfied: idna<3,>=2.5 in c:\\users\\vsanc\\anaconda3\\lib\\site-packages (from requests>=2.9.1->icrawler) (2.7)\n",
      "Requirement already satisfied: certifi>=2017.4.17 in c:\\users\\vsanc\\anaconda3\\lib\\site-packages (from requests>=2.9.1->icrawler) (2020.6.20)\n",
      "Note: you may need to restart the kernel to use updated packages.\n"
     ]
    }
   ],
   "source": [
    "pip install icrawler"
   ]
  },
  {
   "cell_type": "code",
   "execution_count": 2,
   "metadata": {},
   "outputs": [
    {
     "name": "stdout",
     "output_type": "stream",
     "text": [
      "humans getting faster\n"
     ]
    }
   ],
   "source": [
    "from nltk.corpus import stopwords\n",
    "stopwords_dict = {word: 1 for word in stopwords.words(\"english\")}\n",
    "text = 'are humans getting faster'\n",
    "text = \" \".join([word for word in text.split() if word not in stopwords_dict])\n",
    "print(text)"
   ]
  },
  {
   "cell_type": "code",
   "execution_count": 3,
   "metadata": {},
   "outputs": [
    {
     "name": "stderr",
     "output_type": "stream",
     "text": [
      "2022-04-21 11:40:52,606 - INFO - icrawler.crawler - start crawling...\n",
      "2022-04-21 11:40:52,608 - INFO - icrawler.crawler - starting 1 feeder threads...\n",
      "2022-04-21 11:40:52,611 - INFO - feeder - thread feeder-001 exit\n",
      "2022-04-21 11:40:52,617 - INFO - icrawler.crawler - starting 1 parser threads...\n",
      "2022-04-21 11:40:52,621 - INFO - icrawler.crawler - starting 1 downloader threads...\n",
      "2022-04-21 11:40:53,738 - INFO - parser - parsing result page https://www.google.com/search?q=humans+getting+faster&ijn=0&start=0&tbs=&tbm=isch\n",
      "2022-04-21 11:40:54,047 - INFO - downloader - image #1\thttps://static01.nyt.com/images/2020/01/21/science/21MUROERUN-04/21MUROERUN-04-articleLarge.jpg\n",
      "2022-04-21 11:40:55,169 - INFO - downloader - image #2\thttps://i0.wp.com/post.healthline.com/wp-content/uploads/2020/10/Male_Female_Sprinting_1296x728-header-1-1296x729.jpg\n",
      "2022-04-21 11:40:55,274 - INFO - downloader - image #3\thttps://hips.hearstapps.com/assets.runnersworld.co.uk/i/15262/41145.jpg\n",
      "2022-04-21 11:40:55,307 - INFO - downloader - image #4\thttps://static01.nyt.com/images/2020/01/21/science/21MUROERUN-04/21MUROERUN-04-mobileMasterAt3x.jpg\n",
      "2022-04-21 11:40:55,347 - INFO - downloader - image #5\thttps://static01.nyt.com/images/2020/01/21/science/21MUROERUN-02/21MUROERUN-02-articleLarge.jpg\n",
      "2022-04-21 11:40:55,424 - ERROR - downloader - Response status code 401, file https://i.guim.co.uk/img/static/sys-images/Guardian/About/General/2011/11/15/1321373148168/Usain-Bolt-007.jpg\n",
      "2022-04-21 11:40:57,336 - INFO - downloader - image #6\thttps://media.npr.org/assets/img/2014/05/06/2635577_wide-c599c402cc5e1d89c4494668de08b922fcbfa13e.jpg\n",
      "2022-04-21 11:40:59,458 - INFO - downloader - image #7\thttp://www.brosen.com/files/page7_blog_entry1_1.png\n",
      "2022-04-21 11:40:59,609 - INFO - downloader - image #8\thttps://pi.tedcdn.com/r/pe.tedcdn.com/images/ted/b6eb80461d37ced7b3e96c46e51b0d1c82e2fc8e_1600x1200.jpg\n",
      "2022-04-21 11:40:59,742 - INFO - downloader - image #9\thttps://images.ctfassets.net/cnu0m8re1exe/7p4GwI9fvBNJNhZqUlU85n/cfc93fbfabc298bbf91d3e96f2a03ad5/body_running.jpg\n",
      "2022-04-21 11:40:59,790 - INFO - downloader - image #10\thttps://static01.nyt.com/images/2020/01/21/science/21MUNROERUN/21MUROERUN-superJumbo.jpg\n",
      "2022-04-21 11:41:01,643 - INFO - downloader - downloaded images reach max num, thread downloader-001 is ready to exit\n",
      "2022-04-21 11:41:01,645 - INFO - downloader - thread downloader-001 exit\n",
      "2022-04-21 11:41:01,697 - INFO - icrawler.crawler - Crawling task done!\n",
      "2022-04-21 11:41:02,140 - INFO - parser - downloaded image reached max num, thread parser-001 is ready to exit\n",
      "2022-04-21 11:41:02,143 - INFO - parser - thread parser-001 exit\n"
     ]
    }
   ],
   "source": [
    "from icrawler.builtin import GoogleImageCrawler\n",
    "google_Crawler = GoogleImageCrawler(storage = {'root_dir': 'C:\\\\Users\\\\vsanc\\\\OneDrive\\\\Desktop\\\\NU\\\\Spring 2022\\\\CS338\\\\images'})\n",
    "google_Crawler.crawl(keyword = text, max_num = 10)"
   ]
  },
  {
   "cell_type": "code",
   "execution_count": null,
   "metadata": {},
   "outputs": [],
   "source": []
  }
 ],
 "metadata": {
  "kernelspec": {
   "display_name": "Python 3",
   "language": "python",
   "name": "python3"
  },
  "language_info": {
   "codemirror_mode": {
    "name": "ipython",
    "version": 3
   },
   "file_extension": ".py",
   "mimetype": "text/x-python",
   "name": "python",
   "nbconvert_exporter": "python",
   "pygments_lexer": "ipython3",
   "version": "3.8.3"
  }
 },
 "nbformat": 4,
 "nbformat_minor": 4
}
