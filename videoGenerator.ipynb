{
 "cells": [
  {
   "cell_type": "code",
   "execution_count": 7,
   "id": "a26abb72",
   "metadata": {},
   "outputs": [],
   "source": [
    "import os\n",
    "import imageio\n",
    "from PIL import Image\n"
   ]
  },
  {
   "cell_type": "code",
   "execution_count": 8,
   "id": "d84acc17",
   "metadata": {},
   "outputs": [],
   "source": [
    "path = '/Users/miera/Desktop/cs338/practice/images'\n",
    "\n",
    "image_folder = os.fsencode(path)\n",
    "\n",
    "filenames = []\n",
    "\n",
    "for file in os.listdir(image_folder):\n",
    "    filename = os.fsdecode(file)\n",
    "    \n",
    "    if filename.endswith( ('.jpg', '.png') ):\n",
    "    \n",
    "        filenames.append(os.path.join(path, filename))\n",
    "\n",
    "\n",
    "filenames.sort() # this iteration technique has no built in order, so sort the frames\n",
    "\n",
    "images = list(map(lambda filename: Image.fromarray(imageio.imread(filename)).resize((512, 512)), filenames))\n",
    "\n",
    "# fps\n",
    "imageio.mimsave(os.path.join(path,'movieWorking3.mp4'), images, fps=0.5) # modify duration as needed"
   ]
  },
  {
   "cell_type": "code",
   "execution_count": null,
   "id": "e9299f66",
   "metadata": {},
   "outputs": [],
   "source": []
  }
 ],
 "metadata": {
  "kernelspec": {
   "display_name": "Python 3 (ipykernel)",
   "language": "python",
   "name": "python3"
  },
  "language_info": {
   "codemirror_mode": {
    "name": "ipython",
    "version": 3
   },
   "file_extension": ".py",
   "mimetype": "text/x-python",
   "name": "python",
   "nbconvert_exporter": "python",
   "pygments_lexer": "ipython3",
   "version": "3.9.7"
  }
 },
 "nbformat": 4,
 "nbformat_minor": 5
}
