{
 "cells": [
  {
   "cell_type": "code",
   "execution_count": 17,
   "id": "a26abb72",
   "metadata": {},
   "outputs": [],
   "source": [
    "import os\n",
    "import imageio\n",
    "from PIL import Image\n"
   ]
  },
  {
   "cell_type": "code",
   "execution_count": 22,
   "id": "d84acc17",
   "metadata": {},
   "outputs": [
    {
     "ename": "SyntaxError",
     "evalue": "(unicode error) 'unicodeescape' codec can't decode bytes in position 0-1: truncated \\UXXXXXXXX escape (Temp/ipykernel_18568/1205441968.py, line 1)",
     "output_type": "error",
     "traceback": [
      "\u001b[1;36m  File \u001b[1;32m\"C:\\Users\\miera\\AppData\\Local\\Temp/ipykernel_18568/1205441968.py\"\u001b[1;36m, line \u001b[1;32m1\u001b[0m\n\u001b[1;33m    path = '\\Users\\miera\\Desktop\\cs338\\practice\\images'\u001b[0m\n\u001b[1;37m                                                       ^\u001b[0m\n\u001b[1;31mSyntaxError\u001b[0m\u001b[1;31m:\u001b[0m (unicode error) 'unicodeescape' codec can't decode bytes in position 0-1: truncated \\UXXXXXXXX escape\n"
     ]
    }
   ],
   "source": [
    "path = '/Users/miera/Desktop/cs338/practice/images'\n",
    "\n",
    "image_folder = os.fsencode(path)\n",
    "\n",
    "filenames = []\n",
    "\n",
    "for file in os.listdir(image_folder):\n",
    "    filename = os.fsdecode(file)\n",
    "    \n",
    "    if filename.endswith( ('.jpg', '.png') ):\n",
    "    \n",
    "        filenames.append(os.path.join(path, filename))\n",
    "\n",
    "\n",
    "\n",
    "filenames.sort() # this iteration technique has no built in order, so sort the frames\n",
    "\n",
    "images = list(map(lambda filename: Image.fromarray(imageio.imread(filename)).resize((512, 512)), filenames))\n",
    "for i in range(len(images)):\n",
    "    images[i] = images[i].convert(\"RGB\")\n",
    "\n",
    "# fps\n",
    "imageio.mimsave(os.path.join(path,'zipfolder.mp4'), images, fps=0.5) # modify duration as needed"
   ]
  },
  {
   "cell_type": "code",
   "execution_count": null,
   "id": "e9299f66",
   "metadata": {},
   "outputs": [],
   "source": []
  }
 ],
 "metadata": {
  "kernelspec": {
   "display_name": "Python 3 (ipykernel)",
   "language": "python",
   "name": "python3"
  },
  "language_info": {
   "codemirror_mode": {
    "name": "ipython",
    "version": 3
   },
   "file_extension": ".py",
   "mimetype": "text/x-python",
   "name": "python",
   "nbconvert_exporter": "python",
   "pygments_lexer": "ipython3",
   "version": "3.9.7"
  }
 },
 "nbformat": 4,
 "nbformat_minor": 5
}
